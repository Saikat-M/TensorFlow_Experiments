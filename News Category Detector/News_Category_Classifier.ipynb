{
  "nbformat": 4,
  "nbformat_minor": 0,
  "metadata": {
    "colab": {
      "name": "News_Category_Classifier.ipynb",
      "provenance": [],
      "collapsed_sections": []
    },
    "kernelspec": {
      "name": "python3",
      "display_name": "Python 3"
    }
  },
  "cells": [
    {
      "cell_type": "markdown",
      "metadata": {
        "id": "5DCYiJv5KMWo",
        "colab_type": "text"
      },
      "source": [
        "I have used Google's Colab Notebook to implement this project. The working directory for coloab is the \"Content\" folder. We can see the available folder structure from clicking on the folder icon on the left.There we can upload files from our local system."
      ]
    },
    {
      "cell_type": "code",
      "metadata": {
        "id": "WafFsSqHQfcA",
        "colab_type": "code",
        "outputId": "b24ffe38-cb2b-4397-fb6d-37563bf91508",
        "colab": {
          "base_uri": "https://localhost:8080/",
          "height": 34
        }
      },
      "source": [
        "import os\n",
        "import json\n",
        "import zipfile\n",
        "import numpy as np\n",
        "import tensorflow as tf\n",
        "\n",
        "from tensorflow.keras.preprocessing.text import Tokenizer\n",
        "from tensorflow.keras.preprocessing.sequence import pad_sequences\n",
        "\n",
        "print(tf.__version__)\n",
        "local_zip = 'Reduced_News_Category_Dataset.zip' #Name of the zip file that will be uploaded\n",
        "zip_ref = zipfile.ZipFile(local_zip, 'r')\n",
        "zip_ref.extractall('News_Category') #extracting the zip file and putting it in folder named 'News_Category' \n",
        "zip_ref.close()"
      ],
      "execution_count": 2,
      "outputs": [
        {
          "output_type": "stream",
          "text": [
            "2.2.0-rc4\n"
          ],
          "name": "stdout"
        }
      ]
    },
    {
      "cell_type": "markdown",
      "metadata": {
        "id": "24h9ACmGLhnf",
        "colab_type": "text"
      },
      "source": [
        "<h3>Initializing the Parameters</h3>\n",
        "\n",
        "It's a good exercise if we initiaize the parameter values in one place that we will be using going forward. So while doing experiments with the training outcome, we will need to change the values in only one place."
      ]
    },
    {
      "cell_type": "code",
      "metadata": {
        "id": "6By0NbkpRmPz",
        "colab_type": "code",
        "colab": {}
      },
      "source": [
        "vocab_size = 10000     #specifies the the maximum number of words to be tokenized \n",
        "                      #and takes the most common n number of words\n",
        "embedding_dim = 16    #the number of dimensions for the vector representing a word encoding \n",
        "max_length = 120      #to initialize the maximum padding length\n",
        "trunc_type='post'     #to truncate words from the end of the sequence\n",
        "padding_type='post'   #to add padding at the end of the sequence\n",
        "oov_tok = \"<OOV>\"     #Need to specify a token to use for unknown words \n",
        "                      #otherwise the word will not be encoded and will be skipped in the sequence\n",
        "training_size = 40000"
      ],
      "execution_count": 0,
      "outputs": []
    },
    {
      "cell_type": "markdown",
      "metadata": {
        "id": "VgMLnNnGO7dh",
        "colab_type": "text"
      },
      "source": [
        "<h3>Getting Data</h3>\n",
        "\n",
        "We will be working only with the 'Headline' and the 'Category' of dataset. So here we will be storing the rescpective data in 'sentences' and 'lables' respectively."
      ]
    },
    {
      "cell_type": "code",
      "metadata": {
        "id": "1ovGwtpGRu-D",
        "colab_type": "code",
        "outputId": "f81d3d18-b031-4ccf-9ce3-f3178553aed3",
        "colab": {
          "base_uri": "https://localhost:8080/",
          "height": 139
        }
      },
      "source": [
        "with open(\"News_Category/News_Category_Dataset_Updated.json\", 'r') as f:\n",
        "  datastore = json.load(f)\n",
        "\n",
        "sentences = []\n",
        "labels = []\n",
        "for item in datastore:\n",
        "    sentences.append(item['headline'])\n",
        "    labels.append(item['category'])\n",
        "\n",
        "print(len(sentences))\n",
        "print(len(labels))\n",
        "print(len(\"We Shall Overcomb!” Say The 100,000 Marching Against Trump In London\"))\n",
        "print(max(sentences))\n",
        "print((sentences[0:7])) #prints first 7 sentences from the array\n",
        "print((labels[0:7]))    #prints first 7 labels from the array"
      ],
      "execution_count": 5,
      "outputs": [
        {
          "output_type": "stream",
          "text": [
            "49999\n",
            "49999\n",
            "68\n",
            "“We Shall Overcomb!” Say The 100,000 Marching Against Trump In London\n",
            "['There Were 2 Mass Shootings In Texas Last Week, But Only 1 On TV', \"Will Smith Joins Diplo And Nicky Jam For The 2018 World Cup's Official Song\", 'Hugh Grant Marries For The First Time At Age 57', \"Jim Carrey Blasts 'Castrato' Adam Schiff And Democrats In New Artwork\", 'Julianna Margulies Uses Donald Trump Poop Bags To Pick Up After Her Dog', \"Morgan Freeman 'Devastated' That Sexual Harassment Claims Could Undermine Legacy\", \"Donald Trump Is Lovin' New McDonald's Jingle In 'Tonight Show' Bit\"]\n",
            "['CRIME', 'ENTERTAINMENT', 'ENTERTAINMENT', 'ENTERTAINMENT', 'ENTERTAINMENT', 'ENTERTAINMENT', 'ENTERTAINMENT']\n"
          ],
          "name": "stdout"
        }
      ]
    },
    {
      "cell_type": "markdown",
      "metadata": {
        "id": "uclWgg3sPqX2",
        "colab_type": "text"
      },
      "source": [
        "<h3>Tokenizing the 'Lables' and 'Sentences'</h3>\n",
        "\n",
        "1. The first step of \"Natural Language Processing\" is to encode the sentnce, which is basically assigning unique values to each words.\n",
        "\n",
        "2. This process of assigning unique value to each word is called Tokenzing. \n",
        "\n",
        "3. First each and every words are tokenized and then based on that token the sences are then encoded.   "
      ]
    },
    {
      "cell_type": "code",
      "metadata": {
        "id": "VY0iC2I7RxEG",
        "colab_type": "code",
        "outputId": "5b659b36-eca1-40e3-fd87-f288f2e0e732",
        "colab": {
          "base_uri": "https://localhost:8080/",
          "height": 51
        }
      },
      "source": [
        "training_sentences = sentences[0:training_size] \n",
        "testing_sentences = sentences[training_size:]\n",
        "training_labels = labels[0:training_size]\n",
        "testing_labels = labels[training_size:]\n",
        "\n",
        "print(len(training_sentences))\n",
        "print(len(testing_sentences))\n",
        "\n",
        "#initializing the 'Tokenizer' object\n",
        "tokenizer = Tokenizer(num_words=vocab_size, oov_token=oov_tok)\n",
        "\n",
        "#'fit_on_texts' method is used to tokenize a list of sentences\n",
        "tokenizer.fit_on_texts(training_sentences)\n",
        "\n",
        "#The tokenizer provides a word index property which returns a dictionary containing key value pairs,\n",
        "#where the key is the word, and the value is the token for that word.\n",
        "word_index = tokenizer.word_index\n",
        "#which you can inspect by simply printing it out\n",
        "#print(word_index)\n",
        "\n",
        "#Once the corpus has been tokenized, \"texts_to_sequences\" is the method \n",
        "#used to encode a list of sentences to use those tokens\n",
        "training_sequences = tokenizer.texts_to_sequences(training_sentences)\n",
        "\n",
        "#In case of sequences of different lengths, \"pad_sequences\" method is used\n",
        "#to padd the sentnces to our desired length according to the 'maxlen', 'padding' and 'truncating' arguments\n",
        "#so they are understood when fed into a neural network\n",
        "training_padded = pad_sequences(training_sequences, maxlen=max_length, padding=padding_type, truncating=trunc_type)\n",
        "\n",
        "testing_sequences = tokenizer.texts_to_sequences(testing_sentences)\n",
        "testing_padded = pad_sequences(testing_sequences, maxlen=max_length, padding=padding_type, truncating=trunc_type)\n",
        "\n",
        "#tokeninzing the labels\n",
        "label_tokenizer = Tokenizer()\n",
        "label_tokenizer.fit_on_texts(labels)\n",
        "\n",
        "training_label_seq = label_tokenizer.texts_to_sequences(training_labels)\n",
        "testing_label_seq = label_tokenizer.texts_to_sequences(testing_labels)"
      ],
      "execution_count": 10,
      "outputs": [
        {
          "output_type": "stream",
          "text": [
            "40000\n",
            "9999\n"
          ],
          "name": "stdout"
        }
      ]
    },
    {
      "cell_type": "markdown",
      "metadata": {
        "id": "6YpkfLNNtTgy",
        "colab_type": "text"
      },
      "source": [
        "<h3>Embedding: Where the Magic Happens</h3>\n",
        "\n",
        "This is the key to get the text sentiment analysis in TensorFLow. Through embedding we map a word in sentence to a vector in a higher dimension space. So words having similar meaning are mapped to similar vectors and by this the words(having similar meaning) in terms of vector began to cluster together. \n",
        "\n",
        "The meaning of the word is taken from label the of the dataset.    "
      ]
    },
    {
      "cell_type": "code",
      "metadata": {
        "id": "FwUCNWNdR2jn",
        "colab_type": "code",
        "outputId": "f97f0644-dad5-4d15-841b-0c107ff4f602",
        "colab": {
          "base_uri": "https://localhost:8080/",
          "height": 323
        }
      },
      "source": [
        "model = tf.keras.Sequential([\n",
        "  tf.keras.layers.Embedding(vocab_size, embedding_dim, input_length=max_length),\n",
        "\n",
        "  tf.keras.layers.Conv1D(128, 5, activation='relu'), #]different type of intermediate layers: either this can be used\n",
        "                                                       #|\n",
        "  tf.keras.layers.GlobalAveragePooling1D(),          #]\n",
        "\n",
        "    #LSTM helps to understand the meaning when words aren't necessarily beside each other in a sentence\n",
        "    # it is done by carrying the value of words to later or prior of those words via cell state\n",
        "    #'Bidirectional' keras layer helps to carry this in both way\n",
        "\n",
        "  # tf.keras.layers.Bidirectional(tf.keras.layers.LSTM(32)), #]different type of intermediate layers: or this can be used\n",
        "\n",
        "  tf.keras.layers.Dense(128, activation='relu'),\n",
        "  tf.keras.layers.Dense(31, activation='softmax')\n",
        "])\n",
        "#As more than one classes are present here 'sparse_categorical_crossentropy' is used\n",
        "model.compile(loss='sparse_categorical_crossentropy',optimizer='adam',metrics=['accuracy'])\n",
        "model.summary()"
      ],
      "execution_count": 11,
      "outputs": [
        {
          "output_type": "stream",
          "text": [
            "Model: \"sequential\"\n",
            "_________________________________________________________________\n",
            "Layer (type)                 Output Shape              Param #   \n",
            "=================================================================\n",
            "embedding (Embedding)        (None, 120, 16)           160000    \n",
            "_________________________________________________________________\n",
            "conv1d (Conv1D)              (None, 116, 128)          10368     \n",
            "_________________________________________________________________\n",
            "global_average_pooling1d (Gl (None, 128)               0         \n",
            "_________________________________________________________________\n",
            "dense (Dense)                (None, 128)               16512     \n",
            "_________________________________________________________________\n",
            "dense_1 (Dense)              (None, 31)                3999      \n",
            "=================================================================\n",
            "Total params: 190,879\n",
            "Trainable params: 190,879\n",
            "Non-trainable params: 0\n",
            "_________________________________________________________________\n"
          ],
          "name": "stdout"
        }
      ]
    },
    {
      "cell_type": "markdown",
      "metadata": {
        "id": "TYG9oa-vT6uz",
        "colab_type": "text"
      },
      "source": [
        "<h3>Trainging the Model</h3>\n",
        "\n",
        "Now we have developed the model,it's time to train it. 'model.fit()' helps us to do so."
      ]
    },
    {
      "cell_type": "code",
      "metadata": {
        "id": "Zo31g2E2SMcc",
        "colab_type": "code",
        "outputId": "a72e0762-6ecd-4266-c1a6-626429dee855",
        "colab": {
          "base_uri": "https://localhost:8080/",
          "height": 1000
        }
      },
      "source": [
        "num_epochs = 30\n",
        "\n",
        "#converting to Numpy Array as the model expects in that data type  \n",
        "training_padded = np.array(training_padded)\n",
        "training_labels = np.array(training_label_seq)\n",
        "\n",
        "testing_padded = np.array(testing_padded)\n",
        "testing_labels = np.array(testing_label_seq)\n",
        "\n",
        "history = model.fit(training_padded, training_labels, epochs=num_epochs, validation_data=(testing_padded, testing_labels), verbose=1)"
      ],
      "execution_count": 12,
      "outputs": [
        {
          "output_type": "stream",
          "text": [
            "Epoch 1/30\n",
            "1250/1250 [==============================] - 15s 12ms/step - loss: 2.3328 - accuracy: 0.4051 - val_loss: 2.3373 - val_accuracy: 0.4148\n",
            "Epoch 2/30\n",
            "1250/1250 [==============================] - 15s 12ms/step - loss: 1.9856 - accuracy: 0.4585 - val_loss: 2.2021 - val_accuracy: 0.4239\n",
            "Epoch 3/30\n",
            "1250/1250 [==============================] - 15s 12ms/step - loss: 1.8407 - accuracy: 0.4825 - val_loss: 2.1538 - val_accuracy: 0.4289\n",
            "Epoch 4/30\n",
            "1250/1250 [==============================] - 15s 12ms/step - loss: 1.7284 - accuracy: 0.5151 - val_loss: 2.1278 - val_accuracy: 0.4309\n",
            "Epoch 5/30\n",
            "1250/1250 [==============================] - 15s 12ms/step - loss: 1.6136 - accuracy: 0.5472 - val_loss: 2.1081 - val_accuracy: 0.4471\n",
            "Epoch 6/30\n",
            "1250/1250 [==============================] - 15s 12ms/step - loss: 1.5061 - accuracy: 0.5722 - val_loss: 2.0788 - val_accuracy: 0.4572\n",
            "Epoch 7/30\n",
            "1250/1250 [==============================] - 15s 12ms/step - loss: 1.4063 - accuracy: 0.5969 - val_loss: 2.1239 - val_accuracy: 0.4592\n",
            "Epoch 8/30\n",
            "1250/1250 [==============================] - 15s 12ms/step - loss: 1.2973 - accuracy: 0.6274 - val_loss: 2.0878 - val_accuracy: 0.4695\n",
            "Epoch 9/30\n",
            "1250/1250 [==============================] - 15s 12ms/step - loss: 1.1913 - accuracy: 0.6544 - val_loss: 2.1097 - val_accuracy: 0.4727\n",
            "Epoch 10/30\n",
            "1250/1250 [==============================] - 15s 12ms/step - loss: 1.0989 - accuracy: 0.6794 - val_loss: 2.1483 - val_accuracy: 0.4726\n",
            "Epoch 11/30\n",
            "1250/1250 [==============================] - 15s 12ms/step - loss: 1.0166 - accuracy: 0.6999 - val_loss: 2.2316 - val_accuracy: 0.4744\n",
            "Epoch 12/30\n",
            "1250/1250 [==============================] - 15s 12ms/step - loss: 0.9394 - accuracy: 0.7239 - val_loss: 2.3128 - val_accuracy: 0.4705\n",
            "Epoch 13/30\n",
            "1250/1250 [==============================] - 15s 12ms/step - loss: 0.8642 - accuracy: 0.7476 - val_loss: 2.4534 - val_accuracy: 0.4775\n",
            "Epoch 14/30\n",
            "1250/1250 [==============================] - 15s 12ms/step - loss: 0.7939 - accuracy: 0.7680 - val_loss: 2.5898 - val_accuracy: 0.4728\n",
            "Epoch 15/30\n",
            "1250/1250 [==============================] - 15s 12ms/step - loss: 0.7281 - accuracy: 0.7883 - val_loss: 2.7050 - val_accuracy: 0.4708\n",
            "Epoch 16/30\n",
            "1250/1250 [==============================] - 15s 12ms/step - loss: 0.6658 - accuracy: 0.8061 - val_loss: 2.8519 - val_accuracy: 0.4758\n",
            "Epoch 17/30\n",
            "1250/1250 [==============================] - 15s 12ms/step - loss: 0.6080 - accuracy: 0.8258 - val_loss: 2.9938 - val_accuracy: 0.4583\n",
            "Epoch 18/30\n",
            "1250/1250 [==============================] - 15s 12ms/step - loss: 0.5553 - accuracy: 0.8418 - val_loss: 3.1986 - val_accuracy: 0.4640\n",
            "Epoch 19/30\n",
            "1250/1250 [==============================] - 15s 12ms/step - loss: 0.5053 - accuracy: 0.8561 - val_loss: 3.3599 - val_accuracy: 0.4590\n",
            "Epoch 20/30\n",
            "1250/1250 [==============================] - 15s 12ms/step - loss: 0.4590 - accuracy: 0.8706 - val_loss: 3.6170 - val_accuracy: 0.4589\n",
            "Epoch 21/30\n",
            "1250/1250 [==============================] - 15s 12ms/step - loss: 0.4116 - accuracy: 0.8840 - val_loss: 3.9130 - val_accuracy: 0.4502\n",
            "Epoch 22/30\n",
            "1250/1250 [==============================] - 15s 12ms/step - loss: 0.3708 - accuracy: 0.8971 - val_loss: 4.1331 - val_accuracy: 0.4547\n",
            "Epoch 23/30\n",
            "1250/1250 [==============================] - 15s 12ms/step - loss: 0.3319 - accuracy: 0.9088 - val_loss: 4.3991 - val_accuracy: 0.4414\n",
            "Epoch 24/30\n",
            "1250/1250 [==============================] - 15s 12ms/step - loss: 0.2948 - accuracy: 0.9200 - val_loss: 4.7247 - val_accuracy: 0.4424\n",
            "Epoch 25/30\n",
            "1250/1250 [==============================] - 15s 12ms/step - loss: 0.2636 - accuracy: 0.9290 - val_loss: 5.0570 - val_accuracy: 0.4456\n",
            "Epoch 26/30\n",
            "1250/1250 [==============================] - 15s 12ms/step - loss: 0.2361 - accuracy: 0.9372 - val_loss: 5.3399 - val_accuracy: 0.4392\n",
            "Epoch 27/30\n",
            "1250/1250 [==============================] - 15s 12ms/step - loss: 0.2102 - accuracy: 0.9437 - val_loss: 5.6486 - val_accuracy: 0.4307\n",
            "Epoch 28/30\n",
            "1250/1250 [==============================] - 15s 12ms/step - loss: 0.1847 - accuracy: 0.9516 - val_loss: 6.0838 - val_accuracy: 0.4373\n",
            "Epoch 29/30\n",
            "1250/1250 [==============================] - 15s 12ms/step - loss: 0.1665 - accuracy: 0.9565 - val_loss: 6.3680 - val_accuracy: 0.4282\n",
            "Epoch 30/30\n",
            "1250/1250 [==============================] - 15s 12ms/step - loss: 0.1496 - accuracy: 0.9605 - val_loss: 6.6742 - val_accuracy: 0.4268\n"
          ],
          "name": "stdout"
        }
      ]
    },
    {
      "cell_type": "markdown",
      "metadata": {
        "id": "9Ziz7FspUDRB",
        "colab_type": "text"
      },
      "source": [
        "<h3>PLOT LOSS AND ACCURACY</h3>\n",
        "\n",
        "Plotting Loss and Accuracy for Training and Validation dataset "
      ]
    },
    {
      "cell_type": "code",
      "metadata": {
        "id": "_n2ibncdSWtB",
        "colab_type": "code",
        "outputId": "dc06fa87-0668-46cc-ff36-279b130b62df",
        "colab": {
          "base_uri": "https://localhost:8080/",
          "height": 545
        }
      },
      "source": [
        "import matplotlib.pyplot as plt\n",
        "\n",
        "\n",
        "def plot_graphs(history, string):\n",
        "  plt.plot(history.history[string])\n",
        "  plt.plot(history.history['val_'+string])\n",
        "  plt.xlabel(\"Epochs\")\n",
        "  plt.ylabel(string)\n",
        "  plt.legend([string, 'val_'+string])\n",
        "  plt.show()\n",
        "\n",
        "plot_graphs(history, 'accuracy')\n",
        "plot_graphs(history, 'loss')"
      ],
      "execution_count": 13,
      "outputs": [
        {
          "output_type": "display_data",
          "data": {
            "image/png": "[encoded data removed]",
            "text/plain": [
              "<Figure size 432x288 with 1 Axes>"
            ]
          },
          "metadata": {
            "tags": [],
            "needs_background": "light"
          }
        },
        {
          "output_type": "display_data",
          "data": {
            "image/png": "[encoded data removed]",
            "text/plain": [
              "<Figure size 432x288 with 1 Axes>"
            ]
          },
          "metadata": {
            "tags": [],
            "needs_background": "light"
          }
        }
      ]
    },
    {
      "cell_type": "markdown",
      "metadata": {
        "id": "nupl8OOfUcLe",
        "colab_type": "text"
      },
      "source": [
        "<h2>Visualizing the Embedding</h2>\n",
        "\n",
        "<h3>1. Getting Weights</h3>\n",
        "\n",
        "First we need to do get the weights(vectors) from Embedding layer for each of the words"
      ]
    },
    {
      "cell_type": "code",
      "metadata": {
        "id": "HyFSpPEkUMCk",
        "colab_type": "code",
        "outputId": "9e93711f-c8af-4966-bf8c-f2c1a9c58897",
        "colab": {
          "base_uri": "https://localhost:8080/",
          "height": 34
        }
      },
      "source": [
        "e = model.layers[0]          #Embedding layer\n",
        "weights = e.get_weights()[0] #getting the weights of each embedded words\n",
        "print(weights.shape)         # shape: (vocab_size, embedding_dim)"
      ],
      "execution_count": 14,
      "outputs": [
        {
          "output_type": "stream",
          "text": [
            "(10000, 16)\n"
          ],
          "name": "stdout"
        }
      ]
    },
    {
      "cell_type": "markdown",
      "metadata": {
        "id": "MPEgQmGpWEgL",
        "colab_type": "text"
      },
      "source": [
        "<h3>2. Reversing the word index</h3>\n",
        "\n",
        "To decode the padded list we need to flip the word index. As currently, the word is the 'key' and the token is the 'value' and we need to change it to token being 'key' and word being 'value'"
      ]
    },
    {
      "cell_type": "code",
      "metadata": {
        "id": "KqwFOBFhaDug",
        "colab_type": "code",
        "outputId": "9b34aa12-2b04-4439-c344-a74976ab4ab4",
        "colab": {
          "base_uri": "https://localhost:8080/",
          "height": 71
        }
      },
      "source": [
        "reverse_word_index = dict([(value, key) for (key, value) in word_index.items()])\n",
        "\n",
        "def decode_review(text):\n",
        "    return ' '.join([reverse_word_index.get(i, '?') for i in text])\n",
        "\n",
        "print(decode_review(training_padded[1]))\n",
        "print(training_sentences[1])"
      ],
      "execution_count": 15,
      "outputs": [
        {
          "output_type": "stream",
          "text": [
            "will smith joins <OOV> and <OOV> jam for the 2018 world <OOV> official song ? ? ? ? ? ? ? ? ? ? ? ? ? ? ? ? ? ? ? ? ? ? ? ? ? ? ? ? ? ? ? ? ? ? ? ? ? ? ? ? ? ? ? ? ? ? ? ? ? ? ? ? ? ? ? ? ? ? ? ? ? ? ? ? ? ? ? ? ? ? ? ? ? ? ? ? ? ? ? ? ? ? ? ? ? ? ? ? ? ? ? ? ? ? ? ? ? ? ? ? ? ? ? ? ? ?\n",
            "Will Smith Joins Diplo And Nicky Jam For The 2018 World Cup's Official Song\n"
          ],
          "name": "stdout"
        }
      ]
    },
    {
      "cell_type": "markdown",
      "metadata": {
        "id": "KXUowGuvcfDL",
        "colab_type": "text"
      },
      "source": [
        "<h3>3. Writing Vectors and Metadata</h3>\n",
        "\n",
        "TensorFlow Projector reads the vector and metadata from a file and plots the vecotrs in a 3D space. \n",
        "\n",
        "1. So, we write the co-efficinet of each dimenson of the vector for a word(which is basically each item of the embedding array) in the 'vecs.tsv' file.\n",
        "\n",
        "2. And we write the words in the 'meta.tsv' file"
      ]
    },
    {
      "cell_type": "code",
      "metadata": {
        "id": "kUMVtaumUR03",
        "colab_type": "code",
        "colab": {}
      },
      "source": [
        "import io\n",
        "\n",
        "out_v = io.open('vecs.tsv', 'w', encoding='utf-8')\n",
        "out_m = io.open('meta.tsv', 'w', encoding='utf-8')\n",
        "for word_num in range(1, vocab_size):\n",
        "  word = reverse_word_index[word_num]\n",
        "  embeddings = weights[word_num]\n",
        "  out_m.write(word + \"\\n\")\n",
        "  out_v.write('\\t'.join([str(x) for x in embeddings]) + \"\\n\")\n",
        "out_v.close()\n",
        "out_m.close()"
      ],
      "execution_count": 0,
      "outputs": []
    },
    {
      "cell_type": "markdown",
      "metadata": {
        "id": "ZP7zquJWe9Ao",
        "colab_type": "text"
      },
      "source": [
        "Below code will download the above created files"
      ]
    },
    {
      "cell_type": "code",
      "metadata": {
        "id": "4HZXlUh6UWA9",
        "colab_type": "code",
        "colab": {}
      },
      "source": [
        "try:\n",
        "  from google.colab import files\n",
        "except ImportError:\n",
        "  pass\n",
        "else:\n",
        "  files.download('vecs.tsv') #contains the vector representation of words\n",
        "  files.download('meta.tsv') #Contains the words"
      ],
      "execution_count": 0,
      "outputs": []
    },
    {
      "cell_type": "markdown",
      "metadata": {
        "id": "K6-fCqWsfG1I",
        "colab_type": "text"
      },
      "source": [
        "<h3>Instructions to visualize the data</h3>\n",
        "\n",
        "We can visualize the Embedding in TensorFlow Embedding Projector at this URL: https://projector.tensorflow.org\n",
        "\n",
        "Here we need to upload the files. This can be done by clicking on the \"Load\" button. \n",
        "\n",
        "For the first one we should upload the 'vecs.tsv' and 'meta.tsv' for the second one.\n",
        "\n",
        "For a Binary classifier we can go for the \"Sphereize data\" but as it is not, explore different options.\n",
        "\n",
        "Lastly...Have fun!!!"
      ]
    }
  ]
}